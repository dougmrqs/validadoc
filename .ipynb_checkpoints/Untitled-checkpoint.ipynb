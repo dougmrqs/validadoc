{
 "cells": [
  {
   "cell_type": "code",
   "execution_count": 31,
   "metadata": {},
   "outputs": [
    {
     "name": "stdout",
     "output_type": "stream",
     "text": [
      "CPF1 TRUE True | CPF2 FALSE False | CPF3 FALSE False | CPF4 TRUE True | CPF5 FALSE False\n"
     ]
    }
   ],
   "source": [
    "class CPF:\n",
    "    def __init__(self, num):\n",
    "        self.num = str(num)\n",
    "        self.length = len(self.num)\n",
    "        self.weights = '123456789'\n",
    "        \n",
    "    def check_phase0(self):\n",
    "        if self.num in ['11111111111', '22222222222',\n",
    "                        '33333333333', '44444444444',\n",
    "                        '55555555555', '66666666666',\n",
    "                        '77777777777', '88888888888',\n",
    "                        '99999999999']:\n",
    "            return False\n",
    "        else:\n",
    "            return True\n",
    "    \n",
    "    def check_phase1(self, start_idx=0):\n",
    "        result = 0\n",
    "        for idx, n in enumerate(self.num[start_idx:]):\n",
    "            a = eval(n)\n",
    "            try:\n",
    "                b = eval(self.weights[idx])\n",
    "            except:\n",
    "                break\n",
    "            result += a * b\n",
    "        return result\n",
    "\n",
    "    def check_phase2(self, result, compare_idx=9):\n",
    "        if result % 11 == eval(self.num[compare_idx]):\n",
    "            return True\n",
    "        else:\n",
    "            return False\n",
    "    \n",
    "    def check(self):\n",
    "        if self.check_phase0() and self.length == 11:\n",
    "            result = self.check_phase1()\n",
    "            if self.check_phase2(result):\n",
    "                result = self.check_phase1(1)\n",
    "                if self.check_phase2(result, 10):\n",
    "                    return True\n",
    "                else:\n",
    "                    return False\n",
    "            else:\n",
    "                return False\n",
    "        else:\n",
    "            return False\n",
    "\n",
    "num2 = '32948239413'\n",
    "num3 = '22222222222'\n",
    "num4 = '08540705087'\n",
    "num5 = '08540705086'\n",
    "\n",
    "cpf2 = CPF(num2)\n",
    "cpf3 = CPF(num3)\n",
    "cpf4 = CPF(num4)\n",
    "cpf5 = CPF(num5)\n",
    "\n",
    "print(f'CPF2 FALSE {cpf2.check()} | CPF3 FALSE {cpf3.check()} | CPF4 TRUE {cpf4.check()} | CPF5 FALSE {cpf5.check()}')"
   ]
  },
  {
   "cell_type": "code",
   "execution_count": null,
   "metadata": {},
   "outputs": [],
   "source": []
  }
 ],
 "metadata": {
  "kernelspec": {
   "display_name": "Python 3",
   "language": "python",
   "name": "python3"
  },
  "language_info": {
   "codemirror_mode": {
    "name": "ipython",
    "version": 3
   },
   "file_extension": ".py",
   "mimetype": "text/x-python",
   "name": "python",
   "nbconvert_exporter": "python",
   "pygments_lexer": "ipython3",
   "version": "3.7.6"
  }
 },
 "nbformat": 4,
 "nbformat_minor": 2
}
